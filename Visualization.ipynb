https://nbviewer.jupyter.org/github/ashwinighate310/Data-Science/blob/master/Statistical%20Analysis%20and%20Visualization.ipynb
